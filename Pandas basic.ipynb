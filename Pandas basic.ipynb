{
 "cells": [
  {
   "cell_type": "markdown",
   "id": "7c8f5c44-0131-4528-88a2-d1be04047da6",
   "metadata": {},
   "source": [
    "Q1. Create a Pandas Series that contains the following data: 4, 8, 15, 16, 23, and 42. Then, print the series."
   ]
  },
  {
   "cell_type": "code",
   "execution_count": 1,
   "id": "80291b4c-0623-4f1b-b7d9-4e43ab00e46a",
   "metadata": {},
   "outputs": [
    {
     "name": "stdout",
     "output_type": "stream",
     "text": [
      "0     4\n",
      "1     8\n",
      "2    15\n",
      "3    16\n",
      "4    23\n",
      "5    42\n",
      "dtype: int64\n"
     ]
    }
   ],
   "source": [
    "import pandas as pd\n",
    "data = [4, 8, 15, 16, 23, 42]\n",
    "series = pd.Series(data)\n",
    "print(series)"
   ]
  },
  {
   "cell_type": "markdown",
   "id": "d0f605bb-968b-44ae-b51a-e79d190ce8df",
   "metadata": {},
   "source": [
    "Q2. Create a variable of list type containing 10 elements in it, and apply pandas.Series function on the\n",
    "variable print it."
   ]
  },
  {
   "cell_type": "code",
   "execution_count": 2,
   "id": "9622c9f2-815e-420c-918a-202a364315b1",
   "metadata": {},
   "outputs": [
    {
     "name": "stdout",
     "output_type": "stream",
     "text": [
      "0     1\n",
      "1     2\n",
      "2     3\n",
      "3     4\n",
      "4     5\n",
      "5     6\n",
      "6     7\n",
      "7     8\n",
      "8     9\n",
      "9    10\n",
      "dtype: int64\n"
     ]
    }
   ],
   "source": [
    "import pandas as pd\n",
    "data_list = [1,2,3,4,5,6,7,8,9,10]\n",
    "series = pd.Series(data_list)\n",
    "print(series)"
   ]
  },
  {
   "cell_type": "markdown",
   "id": "4778d700-4b24-4cde-9c9d-352d831a8df4",
   "metadata": {},
   "source": [
    "Q3. Create a Pandas DataFrame that contains the following data:"
   ]
  },
  {
   "cell_type": "code",
   "execution_count": 3,
   "id": "694801fe-a181-4997-9834-fb7219d63afb",
   "metadata": {},
   "outputs": [
    {
     "name": "stdout",
     "output_type": "stream",
     "text": [
      "     Name  Age  Gender\n",
      "0   Alice   25  Female\n",
      "1     Bob   30    Male\n",
      "2  Claire   27  Female\n"
     ]
    }
   ],
   "source": [
    "import pandas as pd\n",
    "data = {'Name': ['Alice', 'Bob', 'Claire'],\n",
    "        'Age': [25, 30, 27],\n",
    "        'Gender': ['Female', 'Male', 'Female']}\n",
    "df = pd.DataFrame(data)\n",
    "print(df)"
   ]
  },
  {
   "cell_type": "markdown",
   "id": "a3f1d5e0-18dd-4e76-96ce-c947bdc216be",
   "metadata": {},
   "source": [
    "Q4. What is ‘DataFrame’ in pandas and how is it different from pandas.series? Explain with an example."
   ]
  },
  {
   "cell_type": "markdown",
   "id": "7cf71e9d-d1e2-4c26-ba7c-3135009d7e3e",
   "metadata": {},
   "source": [
    "Ans - A DataFrame in pandas is a 2D, size-mutable, and potentially heterogeneous tabular data structure with labeled axes (rows and columns). It is similar to a table in a relational database or an Excel spreadsheet. Each column in a DataFrame can be of a different data type (e.g., integer, float, string).\n",
    "\n",
    "On the other hand, a Series is a 1D labeled array capable of holding any data type (integers, strings, floating-point numbers, Python objects, etc.). A Series can be thought of as a single column of a DataFrame.\n",
    "\n",
    "Key Differences:\n",
    "\n",
    "a. Dimensions:\n",
    "\n",
    "1. Series: One-dimensional.\n",
    "\n",
    "2. DataFrame: Two-dimensional.\n",
    "\n",
    "b. Structure:\n",
    "\n",
    "1. Series: Contains only a single list of data with an associated index.\n",
    "\n",
    "2. DataFrame: Contains multiple Series (i.e., multiple columns) with potentially different data types, along with row and column indices.\n",
    "\n",
    "c. Usage:\n",
    "\n",
    "1. Series: Used for simple, single-dimensional data that can be accessed via a single index.\n",
    "\n",
    "2. DataFrame: Used for more complex data analysis, manipulation, and visualization tasks involving multiple dimensions."
   ]
  },
  {
   "cell_type": "code",
   "execution_count": 15,
   "id": "1ae4a982-d342-44b1-b966-44a9afaa64c1",
   "metadata": {},
   "outputs": [
    {
     "name": "stdout",
     "output_type": "stream",
     "text": [
      "     Name  Age  Gender\n",
      "0   Alice   25  Female\n",
      "1     Bob   30    Male\n",
      "2  Claire   27  Female \n",
      "\n",
      "0    Female\n",
      "1      Male\n",
      "2    Female\n",
      "Name: Gender, dtype: object\n"
     ]
    }
   ],
   "source": [
    "import pandas as pd\n",
    "data = {'Name': ['Alice', 'Bob', 'Claire'],\n",
    "        'Age': [25, 30, 27],\n",
    "        'Gender': ['Female', 'Male', 'Female']}\n",
    "df = pd.DataFrame(data)\n",
    "print(df,'\\n')\n",
    "print(df['Gender'])"
   ]
  },
  {
   "cell_type": "markdown",
   "id": "1656cd23-808b-4137-af98-2f1351490d08",
   "metadata": {},
   "source": [
    "Q5. What are some common functions you can use to manipulate data in a Pandas DataFrame? Can\n",
    "you give an example of when you might use one of these functions?"
   ]
  },
  {
   "cell_type": "markdown",
   "id": "48578571-56db-4687-99bf-8848dd60400c",
   "metadata": {},
   "source": [
    "Ans - Some common functions and their use cases:\n",
    "\n",
    "1. head(n): Returns the first n rows of the DataFrame.\n",
    "\n",
    "2. tail(n): Returns the last n rows of the DataFrame.\n",
    "\n",
    "Example: Use head() to preview the first few rows of a large dataset.\n",
    "info() and describe():\n",
    "\n",
    "3. info(): Provides a summary of the DataFrame, including data types and non-null values.\n",
    "\n",
    "4. describe(): Generates descriptive statistics for numerical columns.\n",
    "\n",
    "Example: Use info() to understand the structure of a DataFrame and identify missing values.\n",
    "\n",
    "5. drop():\n",
    "\n",
    "Removes rows or columns by specifying labels.\n",
    "\n",
    "Example: Use drop() to remove irrelevant columns before analysis.\n",
    "\n",
    "6. dropna() and fillna():\n",
    "\n",
    "dropna(): Removes rows with missing values.\n",
    "\n",
    "fillna(value): Replaces missing values with a specified value.\n",
    "\n",
    "Example: Use fillna() to fill missing values with the mean or median of the column.\n",
    "\n",
    "7. loc[] and iloc[]:\n",
    "\n",
    "loc[]: Accesses a group of rows and columns by labels or a boolean array.\n",
    "\n",
    "iloc[]: Accesses a group of rows and columns by integer positions.\n",
    "\n",
    "Example: Use loc[] to filter rows based on column values."
   ]
  },
  {
   "cell_type": "markdown",
   "id": "e2be4a20-4831-4e75-a7ee-3107f2f0d98e",
   "metadata": {},
   "source": [
    "Q6. Which of the following is mutable in nature Series, DataFrame, Panel?"
   ]
  },
  {
   "cell_type": "markdown",
   "id": "d4ebe1b9-33c0-4ca2-a3b5-effb115c3a81",
   "metadata": {},
   "source": [
    "Ans - 1. Series:\n",
    "\n",
    "A pandas Series is mutable, meaning its elements can be changed after it has been created. You can modify individual elements, add new elements, or remove existing ones.\n",
    "\n",
    "2. DataFrame:\n",
    "\n",
    "A pandas DataFrame is also mutable. You can modify values in specific cells, add or remove columns and rows, or even change the structure of the DataFrame by reindexing or reshaping operations.\n",
    "\n",
    "3. Panel (deprecated):\n",
    "\n",
    "Panels were a 3D data structure in pandas, but they have been deprecated since new version in favor of using MultiIndexing with DataFrames or other data structures. Historically, Panels were also mutable, allowing operations similar to Series and DataFrames."
   ]
  },
  {
   "cell_type": "code",
   "execution_count": 13,
   "id": "b5c96952-d949-42cc-9519-92d8a3ad41a4",
   "metadata": {},
   "outputs": [
    {
     "name": "stdout",
     "output_type": "stream",
     "text": [
      "0     1\n",
      "2    10\n",
      "3     4\n",
      "4     5\n",
      "dtype: int64 \n",
      "\n",
      "    A      C\n",
      "0   1   True\n",
      "1  10  False\n",
      "2   3   True\n"
     ]
    }
   ],
   "source": [
    "import pandas as pd\n",
    "\n",
    "# Creating a Series\n",
    "s = pd.Series([1, 2, 3, 4])\n",
    "\n",
    "# Modifying an element\n",
    "s[2] = 10\n",
    "\n",
    "# Adding a new element\n",
    "s[4] = 5\n",
    "\n",
    "# Removing an element\n",
    "s = s.drop(1)\n",
    "\n",
    "# Creating a DataFrame\n",
    "df = pd.DataFrame({\n",
    "    'A': [1, 2, 3],\n",
    "    'B': ['a', 'b', 'c']\n",
    "})\n",
    "\n",
    "# Modifying a value\n",
    "df.loc[1, 'A'] = 10\n",
    "\n",
    "# Adding a new column\n",
    "df['C'] = [True, False, True]\n",
    "\n",
    "# Removing a column\n",
    "df = df.drop(columns=['B'])\n",
    "\n",
    "print(s,'\\n')\n",
    "print(df)"
   ]
  },
  {
   "cell_type": "markdown",
   "id": "dd5d67a3-752d-45de-938a-5edb45b2354d",
   "metadata": {},
   "source": [
    "Q7. Create a DataFrame using multiple Series. Explain with an example."
   ]
  },
  {
   "cell_type": "code",
   "execution_count": 11,
   "id": "37cc61ee-57d3-45a3-88a1-0b02f219bc1b",
   "metadata": {},
   "outputs": [
    {
     "name": "stdout",
     "output_type": "stream",
     "text": [
      "   Column_A Column_B  Column_C\n",
      "0         1        a      True\n",
      "1         2        b     False\n",
      "2         3        c      True\n",
      "3         4        d     False\n"
     ]
    }
   ],
   "source": [
    "import pandas as pd\n",
    "s1 = pd.Series([1, 2, 3, 4])\n",
    "s2 = pd.Series(['a', 'b', 'c', 'd'])\n",
    "s3 = pd.Series([True, False, True, False])\n",
    "\n",
    "df = pd.DataFrame({ 'Column_A': s1, 'Column_B': s2, 'Column_C': s3 })\n",
    "\n",
    "print(df)\n"
   ]
  },
  {
   "cell_type": "code",
   "execution_count": null,
   "id": "e46206f6-f63e-416e-94f3-e5442b4c4e7e",
   "metadata": {},
   "outputs": [],
   "source": []
  }
 ],
 "metadata": {
  "kernelspec": {
   "display_name": "Python 3 (ipykernel)",
   "language": "python",
   "name": "python3"
  },
  "language_info": {
   "codemirror_mode": {
    "name": "ipython",
    "version": 3
   },
   "file_extension": ".py",
   "mimetype": "text/x-python",
   "name": "python",
   "nbconvert_exporter": "python",
   "pygments_lexer": "ipython3",
   "version": "3.10.8"
  }
 },
 "nbformat": 4,
 "nbformat_minor": 5
}
